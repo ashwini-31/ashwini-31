{
  "nbformat": 4,
  "nbformat_minor": 0,
  "metadata": {
    "colab": {
      "provenance": [],
      "authorship_tag": "ABX9TyMo1qdq0wfHWtFnbpJO/Qf5",
      "include_colab_link": true
    },
    "kernelspec": {
      "name": "python3",
      "display_name": "Python 3"
    },
    "language_info": {
      "name": "python"
    }
  },
  "cells": [
    {
      "cell_type": "markdown",
      "metadata": {
        "id": "view-in-github",
        "colab_type": "text"
      },
      "source": [
        "<a href=\"https://colab.research.google.com/github/ashwini-31/ashwini-31/blob/main/Variational_Auto_Encoder.ipynb\" target=\"_parent\"><img src=\"https://colab.research.google.com/assets/colab-badge.svg\" alt=\"Open In Colab\"/></a>"
      ]
    },
    {
      "cell_type": "code",
      "execution_count": null,
      "metadata": {
        "id": "KZ9O0wp_nMrO"
      },
      "outputs": [],
      "source": [
        "import numpy as np\n",
        "import tensorflow as tf\n",
        "import keras\n",
        "from keras import layers"
      ]
    },
    {
      "cell_type": "code",
      "source": [
        "class Sampling(layers.Layer):\n",
        "    \"\"\"Uses (mean, log_var) to sample z, the vector encoding a digit.\"\"\"\n",
        "\n",
        "    def call(self, inputs):\n",
        "        mean, log_var = inputs\n",
        "        batch = tf.shape(mean)[0]\n",
        "        dim = tf.shape(mean)[1]\n",
        "        epsilon = tf.random.normal(shape=(batch, dim))\n",
        "        return mean + tf.exp(0.5 * log_var) * epsilon"
      ],
      "metadata": {
        "id": "ia32epavnXvq"
      },
      "execution_count": null,
      "outputs": []
    },
    {
      "cell_type": "code",
      "source": [
        "latent_dim = 2\n",
        "\n",
        "encoder_inputs = keras. Input (shape=(28, 28, 1))\n",
        "\n",
        "x = layers.Conv2D(64, 3, activation=\"relu\", strides=2, padding=\"same\") (encoder_inputs)\n",
        "\n",
        "x = layers.Conv2D(128, 3, activation=\"relu\", strides=2, padding=\"same\")(x)\n",
        "\n",
        "x = layers. Flatten()(x)\n",
        "\n",
        "x = layers.Dense(16, activation=\"relu\") (x)\n",
        "\n",
        "mean = layers.Dense(latent_dim, name=\"mean\") (x)\n",
        "\n",
        "log_var =  layers.Dense(latent_dim, name=\"log_var\") (x)\n",
        "\n",
        "z=Sampling()([mean, log_var])\n",
        "\n",
        "encoder  = keras.Model (encoder_inputs, [mean, log_var, z], name=\"encoder\")\n",
        "\n",
        "encoder.summary()"
      ],
      "metadata": {
        "id": "sZVcJ5x1tb1J"
      },
      "execution_count": null,
      "outputs": []
    },
    {
      "cell_type": "code",
      "source": [
        "latent_inputs = keras.Input(shape=(latent_dim,))\n",
        "\n",
        "x = layers.Dense(7*7*64, activation=\"relu\")(latent_inputs)\n",
        "\n",
        "x =  layers.Reshape((7, 7, 64))(x)\n",
        "\n",
        "x = layers.Conv2DTranspose(128, 3, activation=\"relu\", strides=2, padding=\"same\")(x)\n",
        "\n",
        "x = layers.Conv2DTranspose(64, 3, activation=\"relu\", strides=2, padding=\"same\")(x)\n",
        "\n",
        "decoder_outputs = layers.Conv2DTranspose(1, 3, activation=\"sigmoid\", padding=\"same\")(x)\n",
        "\n",
        "decoder =  keras.Model(latent_inputs, decoder_outputs, name=\"decoder\")\n",
        "\n",
        "decoder.summary()"
      ],
      "metadata": {
        "id": "HzMwiJE_trH0"
      },
      "execution_count": null,
      "outputs": []
    },
    {
      "cell_type": "code",
      "source": [
        "class VAE(keras.Model):\n",
        "    def __init__(self, encoder, decoder, **kwargs):\n",
        "        super().__init__(**kwargs)\n",
        "        self.encoder = encoder\n",
        "        self.decoder = decoder\n",
        "        self.total_loss_tracker = keras.metrics.Mean(name=\"total_loss\")\n",
        "        self.reconstruction_loss_tracker = keras.metrics.Mean(\n",
        "            name=\"reconstruction_loss\")\n",
        "        self.kl_loss_tracker = keras.metrics.Mean(name=\"kl_loss\")\n",
        "\n",
        "    @property\n",
        "    def metrics(self):\n",
        "        return [\n",
        "            self.total_loss_tracker,\n",
        "            self.reconstruction_loss_tracker,\n",
        "            self.kl_loss_tracker,\n",
        "        ]\n",
        "\n",
        "    def train_step(self, data):\n",
        "        with tf.GradientTape() as tape:\n",
        "            mean,log_var, z = self.encoder(data)\n",
        "            reconstruction = self.decoder(z)\n",
        "            reconstruction_loss = tf.reduce_mean(\n",
        "                tf.reduce_sum(\n",
        "                    keras.losses.binary_crossentropy(data, reconstruction), axis=(1, 2),\n",
        "                ))\n",
        "            kl_loss = -0.5 * (1 + log_var - tf.square(mean) - tf.exp(log_var))\n",
        "            kl_loss = tf.reduce_mean(tf.reduce_sum(kl_loss, axis=1))\n",
        "            total_loss = reconstruction_loss + kl_loss\n",
        "            grads = tape.gradient(total_loss, self.trainable_weights)\n",
        "            self.optimizer.apply_gradients(zip(grads, self.trainable_weights))\n",
        "            self.total_loss_tracker.update_state(total_loss)\n",
        "            self.reconstruction_loss_tracker.update_state(reconstruction_loss)\n",
        "            self.kl_loss_tracker.update_state(kl_loss)\n",
        "            return {\n",
        "                \"loss\": self.total_loss_tracker.result(),\n",
        "                \"reconstruction_loss\": self.reconstruction_loss_tracker.result(),\n",
        "                \"kl_loss\": self.kl_loss_tracker.result(),\n",
        "            }"
      ],
      "metadata": {
        "id": "58lhzhsAul-N"
      },
      "execution_count": null,
      "outputs": []
    },
    {
      "cell_type": "code",
      "source": [
        "(x_train, _), (x_test, _) = keras.datasets.fashion_mnist.load_data()\n",
        "fashion_mnist = np.concatenate([x_train, x_test], axis=0)\n",
        "fashion_mnist = np.expand_dims (fashion_mnist, -1).astype(\"float32\") / 255\n",
        "vae = VAE(encoder, decoder)\n",
        "vae.compile(optimizer=keras.optimizers.Adam())\n",
        "vae.fit(fashion_mnist, epochs=1, batch_size=128)"
      ],
      "metadata": {
        "id": "1YkoYnR-xMp1"
      },
      "execution_count": null,
      "outputs": []
    },
    {
      "cell_type": "code",
      "source": [
        "import matplotlib.pyplot as plt\n",
        "\n",
        "def plot_latent_space(vae, n=10, figsize=5):\n",
        "    img_size = 28\n",
        "    scale = 0.5\n",
        "    figure = np.zeros((img_size * n, img_size * n))\n",
        "\n",
        "    grid_x = np.linspace(-scale, scale, n)\n",
        "    grid_y = np.linspace(-scale, scale, n)[::-1]\n",
        "\n",
        "    for i, yi in enumerate (grid_y):\n",
        "        for j, xi in enumerate (grid_x):\n",
        "            sample = np.array([[xi, yi]])\n",
        "            x_decoded = vae.decoder.predict(sample, verbose=0)\n",
        "            images = x_decoded[0].reshape(img_size, img_size)\n",
        "            figure[i*img_size: (i+1)*img_size,\n",
        "                   j*img_size: (j+1)*img_size] = images\n",
        "\n",
        "    plt.figure(figsize=(figsize, figsize))\n",
        "\n",
        "    start_range=img_size // 2\n",
        "    end_range = n*img_size + start_range\n",
        "    pixel_range = np.arange(start_range, end_range, img_size)\n",
        "    sample_range_x = np.round(grid_x,1)\n",
        "    sample_range_y = np.round(grid_y,1)\n",
        "\n",
        "    plt.xticks(pixel_range, sample_range_x)\n",
        "    plt.yticks(pixel_range, sample_range_y)\n",
        "\n",
        "    plt.xlabel(\"z[0]\")\n",
        "    plt.ylabel(\"z[1]\")\n",
        "\n",
        "    plt.imshow(figure, cmap=\"Greys_r\")\n",
        "\n",
        "    plt.show()\n",
        "\n",
        "plot_latent_space(vae)"
      ],
      "metadata": {
        "id": "ZdqR_hKRx_VR"
      },
      "execution_count": null,
      "outputs": []
    },
    {
      "cell_type": "code",
      "source": [
        "def plot_label_clusters(encoder, decoder, data, test_lab):\n",
        "    # display a 2D plot of the digit classes in the latent space\n",
        "    z_mean, _, _ = encoder.predict(data)\n",
        "    plt.figure(figsize=(12, 10))\n",
        "    sc = plt.scatter(z_mean[:, 0], z_mean[:, 1], c=test_lab)\n",
        "    cbar = plt.colorbar(sc, ticks = range(10))\n",
        "    cbar.ax.set_yticklabels([labels.get(i) for i in range(10)])\n",
        "    plt.xlabel(\"z[0]\")\n",
        "    plt.ylabel(\"z[1]\")\n",
        "    plt.show()\n",
        "\n",
        "labels = {0 :\"T-shirt / top\",\n",
        "          1: \"trouser\",\n",
        "          2: \"pullover\",\n",
        "          3: \"dress\",\n",
        "          4: \"coat\",\n",
        "          5: \"sandal\",\n",
        "          6: \"shirt\",\n",
        "          7: \"sneaker\",\n",
        "          8: \"bag\",\n",
        "          9: \"ankle boot\"}\n",
        "\n",
        "(x_train, y_train), _ = keras.datasets.fashion_mnist.load_data()\n",
        "x_train = np.expand_dims(x_train, -1).astype(\"float32\") / 255\n",
        "plot_label_clusters(encoder, decoder, x_train, y_train)"
      ],
      "metadata": {
        "id": "bBBakqWu1L-N"
      },
      "execution_count": null,
      "outputs": []
    },
    {
      "cell_type": "code",
      "source": [],
      "metadata": {
        "id": "HE1l5dvt2wxV"
      },
      "execution_count": null,
      "outputs": []
    }
  ]
}