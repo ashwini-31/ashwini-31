{
  "nbformat": 4,
  "nbformat_minor": 0,
  "metadata": {
    "colab": {
      "provenance": [],
      "authorship_tag": "ABX9TyMqT/o6U1AkaVs/tW0abbYC",
      "include_colab_link": true
    },
    "kernelspec": {
      "name": "python3",
      "display_name": "Python 3"
    },
    "language_info": {
      "name": "python"
    }
  },
  "cells": [
    {
      "cell_type": "markdown",
      "metadata": {
        "id": "view-in-github",
        "colab_type": "text"
      },
      "source": [
        "<a href=\"https://colab.research.google.com/github/ashwini-31/ashwini-31/blob/main/RAG_model.ipynb\" target=\"_parent\"><img src=\"https://colab.research.google.com/assets/colab-badge.svg\" alt=\"Open In Colab\"/></a>"
      ]
    },
    {
      "cell_type": "code",
      "execution_count": null,
      "metadata": {
        "id": "fcbqcWTM9FU2"
      },
      "outputs": [],
      "source": [
        "!pip install -q sentence-transformers faiss-cpu"
      ]
    },
    {
      "cell_type": "code",
      "source": [
        "from sentence_transformers import SentenceTransformer\n",
        "import faiss\n",
        "\n",
        "# --- Step 1: Prepare documents ---\n",
        "docs = [\n",
        "    \"The Taj Mahal is located in Agra, India.\",\n",
        "    \"The Eiffel Tower is a famous landmark in Paris, France.\",\n",
        "    \"The Great Wall of China was built for defense and stretches over 13,000 miles.\",\n",
        "]\n",
        "\n",
        "# --- Step 2: Create embeddings ---\n",
        "model = SentenceTransformer('all-MiniLM-L6-v2')  # Small, fast embedding model\n",
        "doc_embeddings = model.encode(docs)\n",
        "\n",
        "# --- Step 3: Create FAISS index ---\n",
        "dimension = doc_embeddings.shape[1]\n",
        "index = faiss.IndexFlatL2(dimension)\n",
        "index.add(doc_embeddings)\n",
        "\n",
        "# --- Step 4: Define retrieval function ---\n",
        "def retrieve(query, top_k=2):\n",
        "    query_emb = model.encode([query])\n",
        "    distances, indices = index.search(query_emb, top_k)\n",
        "    return [docs[i] for i in indices[0]]\n",
        "\n",
        "# --- Step 5: Ask questions ---\n",
        "query = \"Where is the Taj Mahal located?\"\n",
        "retrieved_docs = retrieve(query)\n",
        "\n",
        "print(\"Question:\", query)\n",
        "print(\"Retrieved Documents:\")\n",
        "for doc in retrieved_docs:\n",
        "    print(\"-\", doc)\n"
      ],
      "metadata": {
        "id": "ypjuNn439Gn2"
      },
      "execution_count": null,
      "outputs": []
    },
    {
      "cell_type": "code",
      "source": [],
      "metadata": {
        "id": "ekogYxPr9N2g"
      },
      "execution_count": null,
      "outputs": []
    }
  ]
}