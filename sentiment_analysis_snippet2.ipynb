{
  "nbformat": 4,
  "nbformat_minor": 0,
  "metadata": {
    "colab": {
      "provenance": [],
      "authorship_tag": "ABX9TyMTmqocJh+LpbVHj+JHIw8B",
      "include_colab_link": true
    },
    "kernelspec": {
      "name": "python3",
      "display_name": "Python 3"
    },
    "language_info": {
      "name": "python"
    }
  },
  "cells": [
    {
      "cell_type": "markdown",
      "metadata": {
        "id": "view-in-github",
        "colab_type": "text"
      },
      "source": [
        "<a href=\"https://colab.research.google.com/github/ashwini-31/ashwini-31/blob/main/sentiment_analysis_snippet2.ipynb\" target=\"_parent\"><img src=\"https://colab.research.google.com/assets/colab-badge.svg\" alt=\"Open In Colab\"/></a>"
      ]
    },
    {
      "cell_type": "code",
      "execution_count": null,
      "metadata": {
        "id": "thWb2fHwqArf"
      },
      "outputs": [],
      "source": [
        " from transformers import pipeline\n",
        " sentiment_analyzer = pipeline(\"sentiment-analysis\")\n",
        " text = \"i am sad\"\n",
        " sentiment_result =sentiment_analyzer(text)\n",
        " print(\"sentiment analysis: \")\n",
        " print(f\"input : {text}\")\n",
        " print(f\"sentiment : {sentiment_result[0]['label']}(score:  {sentiment_result[0]['score']: .2f})\\n\")"
      ]
    },
    {
      "cell_type": "code",
      "source": [
        "#language transaltion"
      ],
      "metadata": {
        "id": "XYcFL_XkrZGV"
      },
      "execution_count": null,
      "outputs": []
    },
    {
      "cell_type": "code",
      "source": [
        "translator_en_to_fr = pipeline(\"translation_en_to_fr\", model = \"Helsinki-NLP/opus-mt-en-fr\")\n",
        "text = \"hello there\"\n",
        "transaltion_result = translator_en_to_fr(text)\n",
        "print(\"translation: \")\n",
        "print(f\"input : {text}\")\n",
        "print(f\"translation : {translation_result[0]['translation_text']}\")"
      ],
      "metadata": {
        "id": "7YqSqO6BumLA"
      },
      "execution_count": null,
      "outputs": []
    },
    {
      "cell_type": "code",
      "source": [],
      "metadata": {
        "id": "IzbgNUtfwt3r"
      },
      "execution_count": null,
      "outputs": []
    },
    {
      "cell_type": "code",
      "source": [
        "#extract text from image and sentiement analysis"
      ],
      "metadata": {
        "id": "W52LK2qyt1G-"
      },
      "execution_count": null,
      "outputs": []
    },
    {
      "cell_type": "code",
      "metadata": {
        "id": "f45d07b9"
      },
      "source": [
        "!pip install pytesseract Pillow transformers\n"
      ],
      "execution_count": null,
      "outputs": []
    },
    {
      "cell_type": "code",
      "source": [
        "import pytesseract\n",
        "from PIL import Image\n",
        "from transformers import pipeline"
      ],
      "metadata": {
        "id": "S91AO0NcuBdR"
      },
      "execution_count": null,
      "outputs": []
    },
    {
      "cell_type": "code",
      "source": [
        "input =\"32.jpg\"\n",
        "input_image = Image.open(input)"
      ],
      "metadata": {
        "id": "baTbWNkZuEg4"
      },
      "execution_count": null,
      "outputs": []
    },
    {
      "cell_type": "code",
      "source": [
        "import re\n",
        "Text_output = pytesseract.image_to_string(input_image, lang='eng').strip()\n",
        "Text_output = re.sub(r'\\s+', '', Text_output)"
      ],
      "metadata": {
        "id": "H9xvuvC0uTnW"
      },
      "execution_count": null,
      "outputs": []
    },
    {
      "cell_type": "code",
      "source": [
        "from transformers import Pipeline\n",
        "sentiment_analyzer = pipeline(\"sentiment-analysis\")\n",
        "sentiment_result = sentiment_analyzer(Text_output)\n",
        "print(\"sentiment analysis: \")\n",
        "print(f\"input : {Text_output}\")\n",
        "print(f\"sentiment : {sentiment_result[0]['label']}(score: {sentiment_result[0]['score']: .2f})\\n\")"
      ],
      "metadata": {
        "id": "FyJSFQetwC4f"
      },
      "execution_count": null,
      "outputs": []
    },
    {
      "cell_type": "code",
      "source": [
        "from huggingface_hub import notebook_login\n",
        "notebook_login()"
      ],
      "metadata": {
        "id": "_faACyscxr6B"
      },
      "execution_count": null,
      "outputs": []
    },
    {
      "cell_type": "code",
      "source": [],
      "metadata": {
        "id": "uSe7P8sc4wFJ"
      },
      "execution_count": null,
      "outputs": []
    }
  ]
}