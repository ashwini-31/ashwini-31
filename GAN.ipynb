{
  "cells": [
    {
      "cell_type": "markdown",
      "metadata": {
        "id": "view-in-github",
        "colab_type": "text"
      },
      "source": [
        "<a href=\"https://colab.research.google.com/github/ashwini-31/ashwini-31/blob/main/GAN.ipynb\" target=\"_parent\"><img src=\"https://colab.research.google.com/assets/colab-badge.svg\" alt=\"Open In Colab\"/></a>"
      ]
    },
    {
      "cell_type": "code",
      "execution_count": null,
      "metadata": {
        "id": "rhDpYOUandLn"
      },
      "outputs": [],
      "source": [
        "# necessary Libraries\n",
        "\n",
        "import tensorflow as tf\n",
        "\n",
        "from tensorflow.keras import layers\n",
        "\n",
        "import numpy as np\n",
        "\n",
        "import matplotlib.pyplot as plt\n",
        "\n",
        "# Load NNIST dataset\n",
        "\n",
        "(X_train, _), (_, _) = tf.keras.datasets.mnist.load_data()\n",
        "\n",
        "X_train = X_train.astype(\"float32\") / 255.0\n",
        "\n",
        "X_train= np.expand_dims (X_train, axis=-1) # shape (28, 28, 1)\n",
        "\n",
        "BUFFER_SIZE = 60000\n",
        "\n",
        "BATCH_SIZE = 128\n",
        "\n",
        "LATENT_DIM = 100\n",
        "\n",
        "# dimension of random noise\n",
        "\n",
        "# Create TensorFlow dataset\n",
        "\n",
        "dataset = tf.data.Dataset.from_tensor_slices (X_train).shuffle (BUFFER_SIZE).batch (BATCH_SIZE)"
      ]
    },
    {
      "cell_type": "code",
      "execution_count": null,
      "metadata": {
        "id": "D8W_j-T6nyYB"
      },
      "outputs": [],
      "source": [
        "def build_generator():\n",
        "    model = tf.keras.Sequential([\n",
        "        layers.Input(shape=(LATENT_DIM,)),\n",
        "        layers.Dense(7*7*256, use_bias=False),\n",
        "        layers.BatchNormalization(),\n",
        "        layers.LeakyReLU(),\n",
        "        layers.Reshape((7, 7, 256)),\n",
        "        layers.Conv2DTranspose(128, (5, 5), strides=(1, 1), padding=\"same\", use_bias=False),\n",
        "        layers.BatchNormalization(),\n",
        "        layers.LeakyReLU(),\n",
        "        layers.Conv2DTranspose(64, (5, 5), strides=(2, 2), padding=\"same\", use_bias=False),\n",
        "        layers.BatchNormalization(),\n",
        "        layers.LeakyReLU(),\n",
        "        layers.Conv2DTranspose(1, (5, 5), strides=(2, 2), padding=\"same\", use_bias=False, activation=\"sigmoid\"),\n",
        "    ])\n",
        "\n",
        "    return model"
      ]
    },
    {
      "cell_type": "code",
      "execution_count": null,
      "metadata": {
        "id": "XPkkR0GWoMa4"
      },
      "outputs": [],
      "source": [
        "def build_discriminator():\n",
        "    model = tf.keras.Sequential([\n",
        "        layers.Input(shape=(28, 28, 1)),\n",
        "        layers.Conv2D(64, (5, 5), strides=(2, 2), padding=\"same\"),\n",
        "        layers.LeakyReLU(),\n",
        "        layers.Dropout(0.3),\n",
        "        layers.Conv2D(128, (5, 5), strides=(2, 2), padding=\"same\"),\n",
        "        layers.LeakyReLU(),\n",
        "        layers.Dropout(0.3),\n",
        "        layers.Flatten(),\n",
        "        layers.Dense(1, activation=\"sigmoid\"),\n",
        "    ])\n",
        "\n",
        "    return model"
      ]
    },
    {
      "cell_type": "code",
      "execution_count": null,
      "metadata": {
        "id": "HxxjKbkr4QCB"
      },
      "outputs": [],
      "source": [
        "#Instantiate models\n",
        "import tensorflow as tf\n",
        "generator = build_generator()\n",
        "discriminator = build_discriminator()\n",
        "\n",
        "# Optimizers\n",
        "cross_entropy = tf.keras.losses.BinaryCrossentropy (from_logits=False)\n",
        "gen_optimizer = tf.keras.optimizers.Adam(1e-4)\n",
        "disc_optimizer = tf.keras.optimizers.Adam (1e-4)\n",
        "\n",
        "#\n",
        "#3. Define Loss Functions\n",
        "#\n",
        "def generator_loss(fake_output):\n",
        "    return cross_entropy(tf.ones_like (fake_output), fake_output)\n",
        "\n",
        "def discriminator_loss(real_output, fake_output):\n",
        "    real_loss = cross_entropy (tf.ones_like (real_output), real_output)\n",
        "    fake_loss = cross_entropy (tf.zeros_like (fake_output), fake_output)\n",
        "    return real_loss + fake_loss"
      ]
    },
    {
      "cell_type": "code",
      "execution_count": null,
      "metadata": {
        "id": "ckPczZtt5xkB"
      },
      "outputs": [],
      "source": []
    },
    {
      "cell_type": "code",
      "execution_count": null,
      "metadata": {
        "id": "3c4f8de0"
      },
      "outputs": [],
      "source": [
        "!pip install tensorflow"
      ]
    },
    {
      "cell_type": "code",
      "execution_count": null,
      "metadata": {
        "id": "jYiAmCIV57Ai"
      },
      "outputs": [],
      "source": [
        "import tensorflow as tf\n",
        "\n",
        "EPOCHS = 5\n",
        "\n",
        "NOISE_DIM = 100\n",
        "\n",
        "NUM_EXAMPLES = 16\n",
        "\n",
        "seed = tf.random.normal([NUM_EXAMPLES, NOISE_DIM])\n",
        "\n",
        "@tf.function\n",
        "\n",
        "def train_step(images):\n",
        "\n",
        "    noise = tf.random.normal([BATCH_SIZE, NOISE_DIM])\n",
        "\n",
        "    # Gradient tape for both models\n",
        "\n",
        "    with tf.GradientTape() as gen_tape, tf.GradientTape() as disc_tape:\n",
        "\n",
        "        generated_images = generator (noise, training=True)\n",
        "\n",
        "        real_output = discriminator (images, training=True)\n",
        "\n",
        "        fake_output = discriminator (generated_images, training=True)\n",
        "\n",
        "        gen_loss = generator_loss (fake_output)\n",
        "\n",
        "        disc_loss = discriminator_loss(real_output, fake_output)\n",
        "\n",
        "    gradients_of_generator = gen_tape.gradient(gen_loss, generator.trainable_variables)\n",
        "\n",
        "    gradients_of_discriminator = disc_tape.gradient(disc_loss, discriminator.trainable_variables)\n",
        "\n",
        "    gen_optimizer.apply_gradients (zip (gradients_of_generator , generator.trainable_variables))\n",
        "\n",
        "    disc_optimizer.apply_gradients(zip(gradients_of_discriminator, discriminator.trainable_variables))"
      ]
    },
    {
      "cell_type": "code",
      "execution_count": null,
      "metadata": {
        "colab": {
          "background_save": true
        },
        "id": "QV2b1tkx60W9"
      },
      "outputs": [],
      "source": [
        "# necessary Libraries\n",
        "\n",
        "import tensorflow as tf\n",
        "\n",
        "from tensorflow.keras import layers\n",
        "\n",
        "import numpy as np\n",
        "\n",
        "import matplotlib.pyplot as plt\n",
        "\n",
        "# Load NNIST dataset\n",
        "\n",
        "(X_train, _), (_, _) = tf.keras.datasets.mnist.load_data()\n",
        "\n",
        "X_train = X_train.astype(\"float32\") / 255.0\n",
        "\n",
        "X_train= np.expand_dims (X_train, axis=-1) # shape (28, 28, 1)\n",
        "\n",
        "BUFFER_SIZE = 60000\n",
        "\n",
        "BATCH_SIZE = 128\n",
        "\n",
        "LATENT_DIM = 100\n",
        "\n",
        "# dimension of random noise\n",
        "\n",
        "# Create TensorFlow dataset\n",
        "\n",
        "dataset = tf.data.Dataset.from_tensor_slices (X_train).shuffle (BUFFER_SIZE).batch (BATCH_SIZE)\n",
        "\n",
        "def build_generator():\n",
        "    model = tf.keras.Sequential([\n",
        "        layers.Input(shape=(LATENT_DIM,)),\n",
        "        layers.Dense(7*7*256, use_bias=False),\n",
        "        layers.BatchNormalization(),\n",
        "        layers.LeakyReLU(),\n",
        "        layers.Reshape((7, 7, 256)),\n",
        "        layers.Conv2DTranspose(128, (5, 5), strides=(1, 1), padding=\"same\", use_bias=False),\n",
        "        layers.BatchNormalization(),\n",
        "        layers.LeakyReLU(),\n",
        "        layers.Conv2DTranspose(64, (5, 5), strides=(2, 2), padding=\"same\", use_bias=False),\n",
        "        layers.BatchNormalization(),\n",
        "        layers.LeakyReLU(),\n",
        "        layers.Conv2DTranspose(1, (5, 5), strides=(2, 2), padding=\"same\", use_bias=False, activation=\"sigmoid\"),\n",
        "    ])\n",
        "\n",
        "    return model\n",
        "\n",
        "def build_discriminator():\n",
        "    model = tf.keras.Sequential([\n",
        "        layers.Input(shape=(28, 28, 1)),\n",
        "        layers.Conv2D(64, (5, 5), strides=(2, 2), padding=\"same\"),\n",
        "        layers.LeakyReLU(),\n",
        "        layers.Dropout(0.3),\n",
        "        layers.Conv2D(128, (5, 5), strides=(2, 2), padding=\"same\"),\n",
        "        layers.LeakyReLU(),\n",
        "        layers.Dropout(0.3),\n",
        "        layers.Flatten(),\n",
        "        layers.Dense(1, activation=\"sigmoid\"),\n",
        "    ])\n",
        "\n",
        "    return model\n",
        "\n",
        "#Instantiate models\n",
        "generator = build_generator()\n",
        "discriminator = build_discriminator()\n",
        "\n",
        "# Optimizers\n",
        "cross_entropy = tf.keras.losses.BinaryCrossentropy (from_logits=False)\n",
        "gen_optimizer = tf.keras.optimizers.Adam(1e-4)\n",
        "disc_optimizer = tf.keras.optimizers.Adam (1e-4)\n",
        "\n",
        "#\n",
        "#3. Define Loss Functions\n",
        "#\n",
        "def generator_loss(fake_output):\n",
        "    return cross_entropy(tf.ones_like (fake_output), fake_output)\n",
        "\n",
        "def discriminator_loss(real_output, fake_output):\n",
        "    real_loss = cross_entropy (tf.ones_like (real_output), real_output)\n",
        "    fake_loss = cross_entropy (tf.zeros_like (fake_output), fake_output)\n",
        "    return real_loss + fake_loss\n",
        "\n",
        "#\n",
        "#4. Define Training Step\n",
        "#\n",
        "@tf.function\n",
        "def train_step(images):\n",
        "    noise = tf.random.normal([BATCH_SIZE, LATENT_DIM]) # Use LATENT_DIM here\n",
        "\n",
        "    with tf.GradientTape() as gen_tape, tf.GradientTape() as disc_tape:\n",
        "        generated_images = generator(noise, training=True)\n",
        "\n",
        "        real_output = discriminator(images, training=True)\n",
        "        fake_output = discriminator(generated_images, training=True)\n",
        "\n",
        "        gen_loss = generator_loss(fake_output)\n",
        "        disc_loss = discriminator_loss(real_output, fake_output)\n",
        "\n",
        "    gradients_of_generator = gen_tape.gradient(gen_loss, generator.trainable_variables)\n",
        "    gradients_of_discriminator = disc_tape.gradient(disc_loss, discriminator.trainable_variables)\n",
        "\n",
        "    gen_optimizer.apply_gradients(zip(gradients_of_generator, generator.trainable_variables))\n",
        "    disc_optimizer.apply_gradients(zip(gradients_of_discriminator, discriminator.trainable_variables))\n",
        "\n",
        "\n",
        "def train(dataset, epochs):\n",
        "    for epoch in range(epochs):\n",
        "        for image_batch in dataset:\n",
        "            train_step(image_batch)\n",
        "\n",
        "        # Generate and save images every epoch\n",
        "        generate_and_save_images(generator, epoch + 1, seed)\n",
        "        print(f\"Epoch {epoch + 1} completed.\")\n",
        "\n",
        "def generate_and_save_images(model, epoch, test_input):\n",
        "    predictions = model(test_input, training=False)\n",
        "    fig = plt.figure(figsize=(4, 4))\n",
        "    for i in range(predictions.shape[0]):\n",
        "        plt.subplot(4, 4, i + 1)\n",
        "        plt.imshow(predictions[i, :, :, 0], cmap=\"gray\")\n",
        "        plt.axis(\"off\")\n",
        "    plt.suptitle(f\"Epoch {epoch}\")\n",
        "    plt.show()\n",
        "\n",
        "#\n",
        "#5. Run Training\n",
        "#\n",
        "train(dataset, EPOCHS)"
      ]
    },
    {
      "cell_type": "code",
      "execution_count": null,
      "metadata": {
        "id": "0dF7i8Xh7j6-"
      },
      "outputs": [],
      "source": []
    },
    {
      "cell_type": "code",
      "execution_count": null,
      "metadata": {
        "id": "183dd1d5"
      },
      "outputs": [],
      "source": [
        "# This cell is added to ensure that the 'dataset' variable is defined.\n",
        "# It explicitly runs the first cell of the notebook.\n",
        "%exec_dependency 0"
      ]
    }
  ],
  "metadata": {
    "accelerator": "TPU",
    "colab": {
      "gpuType": "V28",
      "provenance": [],
      "authorship_tag": "ABX9TyNzZUI+M8bCAyA4C5NRKE0J",
      "include_colab_link": true
    },
    "kernelspec": {
      "display_name": "Python 3",
      "name": "python3"
    },
    "language_info": {
      "name": "python"
    }
  },
  "nbformat": 4,
  "nbformat_minor": 0
}