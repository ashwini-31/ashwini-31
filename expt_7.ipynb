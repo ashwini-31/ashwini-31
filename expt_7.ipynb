{
  "nbformat": 4,
  "nbformat_minor": 0,
  "metadata": {
    "colab": {
      "provenance": [],
      "gpuType": "T4",
      "authorship_tag": "ABX9TyPOkXsgLPgUHIjkpDP372iT",
      "include_colab_link": true
    },
    "kernelspec": {
      "name": "python3",
      "display_name": "Python 3"
    },
    "language_info": {
      "name": "python"
    }
  },
  "cells": [
    {
      "cell_type": "markdown",
      "metadata": {
        "id": "view-in-github",
        "colab_type": "text"
      },
      "source": [
        "<a href=\"https://colab.research.google.com/github/ashwini-31/ashwini-31/blob/main/expt_7.ipynb\" target=\"_parent\"><img src=\"https://colab.research.google.com/assets/colab-badge.svg\" alt=\"Open In Colab\"/></a>"
      ]
    },
    {
      "cell_type": "code",
      "execution_count": null,
      "metadata": {
        "id": "tLd4_uOX-3Xi"
      },
      "outputs": [],
      "source": [
        "!pip install gradio\n"
      ]
    },
    {
      "cell_type": "code",
      "source": [
        "import gradio as gr\n",
        "def greet(name):\n",
        "  return f\"Hello, {name}!\"\n",
        "\n",
        "demo = gr.Interface(fn=greet, inputs=gr.Textbox(label=\"enter your name\"), outputs=gr.Text(label=\"Greeting\"))\n",
        "demo.launch(share=False)"
      ],
      "metadata": {
        "id": "JdNRAZXI_Y7x"
      },
      "execution_count": null,
      "outputs": []
    },
    {
      "cell_type": "code",
      "source": [
        "import gradio as gr\n",
        "def multiply_by_slider(value):\n",
        "    return value * 2\n",
        "\n",
        "demo = gr.Interface(fn=multiply_by_slider, inputs=gr.Slider(1, 100), outputs=gr.Textbox())\n",
        "demo.launch(share=False)"
      ],
      "metadata": {
        "id": "27g5iy-IAqdx"
      },
      "execution_count": null,
      "outputs": []
    },
    {
      "cell_type": "code",
      "source": [],
      "metadata": {
        "id": "OZ-9W58yEC6R"
      },
      "execution_count": null,
      "outputs": []
    }
  ]
}