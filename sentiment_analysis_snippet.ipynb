{
  "nbformat": 4,
  "nbformat_minor": 0,
  "metadata": {
    "colab": {
      "provenance": [],
      "authorship_tag": "ABX9TyPTUp74husDmpRIpg8v9ILy",
      "include_colab_link": true
    },
    "kernelspec": {
      "name": "python3",
      "display_name": "Python 3"
    },
    "language_info": {
      "name": "python"
    }
  },
  "cells": [
    {
      "cell_type": "markdown",
      "metadata": {
        "id": "view-in-github",
        "colab_type": "text"
      },
      "source": [
        "<a href=\"https://colab.research.google.com/github/ashwini-31/ashwini-31/blob/main/sentiment_analysis_snippet.ipynb\" target=\"_parent\"><img src=\"https://colab.research.google.com/assets/colab-badge.svg\" alt=\"Open In Colab\"/></a>"
      ]
    },
    {
      "cell_type": "code",
      "execution_count": 10,
      "metadata": {
        "colab": {
          "base_uri": "https://localhost:8080/"
        },
        "id": "thWb2fHwqArf",
        "outputId": "71a7845d-63f3-42c8-9050-fc066b35fb4b"
      },
      "outputs": [
        {
          "output_type": "stream",
          "name": "stderr",
          "text": [
            "No model was supplied, defaulted to distilbert/distilbert-base-uncased-finetuned-sst-2-english and revision 714eb0f (https://huggingface.co/distilbert/distilbert-base-uncased-finetuned-sst-2-english).\n",
            "Using a pipeline without specifying a model name and revision in production is not recommended.\n",
            "Device set to use cpu\n"
          ]
        },
        {
          "output_type": "stream",
          "name": "stdout",
          "text": [
            "sentiment analysis: \n",
            "input : i am sad\n",
            "sentiment : NEGATIVE(score:   1.00)\n",
            "\n"
          ]
        }
      ],
      "source": [
        " from transformers import pipeline\n",
        " sentiment_analyzer = pipeline(\"sentiment-analysis\")\n",
        " text = \"i am sad\"\n",
        " sentiment_result =sentiment_analyzer(text)\n",
        " print(\"sentiment analysis: \")\n",
        " print(f\"input : {text}\")\n",
        " print(f\"sentiment : {sentiment_result[0]['label']}(score:  {sentiment_result[0]['score']: .2f})\\n\")"
      ]
    },
    {
      "cell_type": "code",
      "source": [
        "#language transaltion"
      ],
      "metadata": {
        "id": "XYcFL_XkrZGV"
      },
      "execution_count": 11,
      "outputs": []
    },
    {
      "cell_type": "code",
      "source": [
        "translator_en_to_fr = pipeline(\"translation_en_to_fr\", model = \"Helsinki-NLP/opus-mt-en-fr\")\n",
        "text = \"hello there\"\n",
        "transaltion_result = translator_en_to_fr(text)\n",
        "print(\"translation: \")\n",
        "print(f\"input : {text}\")\n",
        "print(f\"translation : {translation_result[0]['translation_text']}\")"
      ],
      "metadata": {
        "colab": {
          "base_uri": "https://localhost:8080/"
        },
        "id": "7YqSqO6BumLA",
        "outputId": "24f04117-4fa4-4bfe-c1f2-bf8390e16092"
      },
      "execution_count": 17,
      "outputs": [
        {
          "output_type": "stream",
          "name": "stderr",
          "text": [
            "/usr/local/lib/python3.11/dist-packages/transformers/models/marian/tokenization_marian.py:175: UserWarning: Recommended: pip install sacremoses.\n",
            "  warnings.warn(\"Recommended: pip install sacremoses.\")\n",
            "Device set to use cpu\n"
          ]
        },
        {
          "output_type": "stream",
          "name": "stdout",
          "text": [
            "translation: \n",
            "input : hello there\n",
            "translation : Quel est votre nom ?\n"
          ]
        }
      ]
    },
    {
      "cell_type": "code",
      "source": [],
      "metadata": {
        "id": "IzbgNUtfwt3r"
      },
      "execution_count": null,
      "outputs": []
    }
  ]
}