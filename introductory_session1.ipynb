{
  "nbformat": 4,
  "nbformat_minor": 0,
  "metadata": {
    "colab": {
      "provenance": [],
      "authorship_tag": "ABX9TyOUrt4AKK+PEH+kZ8POMogB",
      "include_colab_link": true
    },
    "kernelspec": {
      "name": "python3",
      "display_name": "Python 3"
    },
    "language_info": {
      "name": "python"
    }
  },
  "cells": [
    {
      "cell_type": "markdown",
      "metadata": {
        "id": "view-in-github",
        "colab_type": "text"
      },
      "source": [
        "<a href=\"https://colab.research.google.com/github/ashwini-31/ashwini-31/blob/main/introductory_session1.ipynb\" target=\"_parent\"><img src=\"https://colab.research.google.com/assets/colab-badge.svg\" alt=\"Open In Colab\"/></a>"
      ]
    },
    {
      "cell_type": "code",
      "execution_count": null,
      "metadata": {
        "colab": {
          "base_uri": "https://localhost:8080/"
        },
        "id": "oTfcIr8ertZl",
        "outputId": "034ea317-a2bf-4e8f-da7c-24a28d98ef87"
      },
      "outputs": [
        {
          "output_type": "stream",
          "name": "stdout",
          "text": [
            "Enter a number: 5\n",
            "The square of 5 is 25\n"
          ]
        }
      ],
      "source": [
        "\n",
        "num = int(input(\"Enter a number: \"))\n",
        "square = num ** 2\n",
        "\n",
        "print(f\"The square of {num} is {square}\")\n"
      ]
    },
    {
      "cell_type": "code",
      "source": [],
      "metadata": {
        "id": "b9vyHEVAtGoU"
      },
      "execution_count": null,
      "outputs": []
    },
    {
      "cell_type": "code",
      "source": [
        "\n",
        "a = 5\n",
        "b = 10\n",
        "num = int(input(\"enter a num:\"))\n",
        "t = a\n",
        "a = b\n",
        "b = t\n",
        "print(\"After swapping:\")\n",
        "print(\"a=\", a)\n",
        "print(\"b=\", b)\n"
      ],
      "metadata": {
        "id": "Vz8ADLfzsmjj",
        "colab": {
          "base_uri": "https://localhost:8080/"
        },
        "outputId": "cfc185bf-61dc-4eec-e21b-82141a00fe95"
      },
      "execution_count": null,
      "outputs": [
        {
          "output_type": "stream",
          "name": "stdout",
          "text": [
            "enter a num:10\n",
            "After swapping:\n",
            "a= 10\n",
            "b= 5\n"
          ]
        }
      ]
    },
    {
      "cell_type": "code",
      "source": [],
      "metadata": {
        "id": "9ZcE9SBkvvBf"
      },
      "execution_count": null,
      "outputs": []
    },
    {
      "cell_type": "code",
      "source": [
        "num = int(input(\"enter num: \"))\n",
        "if num > 0:\n",
        "  print(\"is positive\")\n",
        "elif num < 0:\n",
        "  print(\"is negative\")\n",
        "else:\n",
        "  print(\"is zero\")"
      ],
      "metadata": {
        "colab": {
          "base_uri": "https://localhost:8080/"
        },
        "id": "HOqnlM8ewn84",
        "outputId": "71accfa4-8bd9-4c0d-babc-76f1b015fa20"
      },
      "execution_count": null,
      "outputs": [
        {
          "output_type": "stream",
          "name": "stdout",
          "text": [
            "enter num: 5\n",
            "is positive\n"
          ]
        }
      ]
    },
    {
      "cell_type": "code",
      "source": [
        "num = int(input(\"enter a number: \"))\n",
        "if(num %2 ==0):\n",
        "  print(\"is even\")\n",
        "else:\n",
        "  print(\"is odd\")"
      ],
      "metadata": {
        "colab": {
          "base_uri": "https://localhost:8080/"
        },
        "id": "x7mVeiRo0cXm",
        "outputId": "f4599b52-8984-463e-81e2-79380297f2cf"
      },
      "execution_count": null,
      "outputs": [
        {
          "output_type": "stream",
          "name": "stdout",
          "text": [
            "enter a number: 12\n",
            "is even\n"
          ]
        }
      ]
    },
    {
      "cell_type": "code",
      "source": [
        "def factorial(n):\n",
        "    if n == 0 or n == 1:\n",
        "        return 1\n",
        "    else:\n",
        "        return n * factorial(n - 1)\n",
        "\n",
        "\n",
        "num = int(input(\"Enter a number: \"))\n",
        "print(f\"Factorial of {num} is {factorial(num)}\")\n"
      ],
      "metadata": {
        "colab": {
          "base_uri": "https://localhost:8080/"
        },
        "id": "4Vnu5RVFmC_I",
        "outputId": "d0642803-b1bb-4792-a9fa-757fe63fec6b"
      },
      "execution_count": null,
      "outputs": [
        {
          "output_type": "stream",
          "name": "stdout",
          "text": [
            "Enter a number: 3\n",
            "Factorial of 3 is 6\n"
          ]
        }
      ]
    },
    {
      "cell_type": "code",
      "source": [
        "import pandas as pd"
      ],
      "metadata": {
        "id": "45m02Ml001h3"
      },
      "execution_count": null,
      "outputs": []
    },
    {
      "cell_type": "code",
      "source": [
        "df = {'name': ['abc', 'efg', 'hij', 'klm', 'nmop'],\n",
        "      'age': [10, 25, 46, 74, 9],\n",
        "      'city': ['chicago', 'la', 'new York', 'london', 'delhi']}\n"
      ],
      "metadata": {
        "id": "NMzhCQPL1FPX"
      },
      "execution_count": null,
      "outputs": []
    },
    {
      "cell_type": "code",
      "source": [
        "print(df)"
      ],
      "metadata": {
        "colab": {
          "base_uri": "https://localhost:8080/"
        },
        "id": "WYaJaZEV1zXD",
        "outputId": "c6f96152-aacd-4bf1-e5cd-4c6ffeb1b879"
      },
      "execution_count": null,
      "outputs": [
        {
          "output_type": "stream",
          "name": "stdout",
          "text": [
            "{'name': ['abc', 'efg', 'hij', 'klm', 'nmop'], 'age': [10, 25, 46, 74, 9], 'city': ['chicago', 'la', 'new York', 'london', 'delhi']}\n"
          ]
        }
      ]
    },
    {
      "cell_type": "code",
      "source": [
        "df = pd.DataFrame(df)\n",
        "print(\"age greater than 25:\")\n",
        "print(df[df['age'] > 25])"
      ],
      "metadata": {
        "colab": {
          "base_uri": "https://localhost:8080/"
        },
        "id": "-cnozPl_10Xz",
        "outputId": "a5e3f0d8-f025-498c-f2e6-09b58fe22b7c"
      },
      "execution_count": null,
      "outputs": [
        {
          "output_type": "stream",
          "name": "stdout",
          "text": [
            "age greater than 25:\n",
            "  name  age      city\n",
            "2  hij   46  new York\n",
            "3  klm   74    london\n"
          ]
        }
      ]
    },
    {
      "cell_type": "code",
      "source": [],
      "metadata": {
        "id": "LA5UMqHd2IWn"
      },
      "execution_count": null,
      "outputs": []
    }
  ]
}